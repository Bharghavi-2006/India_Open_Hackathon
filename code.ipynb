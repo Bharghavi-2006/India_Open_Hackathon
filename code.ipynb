{
  "nbformat": 4,
  "nbformat_minor": 0,
  "metadata": {
    "colab": {
      "provenance": [],
      "authorship_tag": "ABX9TyPyiqw7e3E9r3G4pnrXOFel",
      "include_colab_link": true
    },
    "kernelspec": {
      "name": "python3",
      "display_name": "Python 3"
    },
    "language_info": {
      "name": "python"
    }
  },
  "cells": [
    {
      "cell_type": "markdown",
      "metadata": {
        "id": "view-in-github",
        "colab_type": "text"
      },
      "source": [
        "<a href=\"https://colab.research.google.com/github/Bharghavi-2006/India_Open_Hackathon/blob/main/code.ipynb\" target=\"_parent\"><img src=\"https://colab.research.google.com/assets/colab-badge.svg\" alt=\"Open In Colab\"/></a>"
      ]
    },
    {
      "cell_type": "code",
      "execution_count": 1,
      "metadata": {
        "colab": {
          "base_uri": "https://localhost:8080/",
          "height": 384
        },
        "id": "6T2xZitb7oTN",
        "outputId": "5cd8baf9-e2ce-4f81-896c-210954c56d79"
      },
      "outputs": [
        {
          "output_type": "error",
          "ename": "ModuleNotFoundError",
          "evalue": "No module named 'torch_geometric'",
          "traceback": [
            "\u001b[0;31m---------------------------------------------------------------------------\u001b[0m",
            "\u001b[0;31mModuleNotFoundError\u001b[0m                       Traceback (most recent call last)",
            "\u001b[0;32m/tmp/ipython-input-3583011699.py\u001b[0m in \u001b[0;36m<cell line: 0>\u001b[0;34m()\u001b[0m\n\u001b[1;32m      2\u001b[0m \u001b[0;32mimport\u001b[0m \u001b[0mtorch\u001b[0m\u001b[0;34m.\u001b[0m\u001b[0mnn\u001b[0m \u001b[0;32mas\u001b[0m \u001b[0mnn\u001b[0m\u001b[0;34m\u001b[0m\u001b[0;34m\u001b[0m\u001b[0m\n\u001b[1;32m      3\u001b[0m \u001b[0;32mimport\u001b[0m \u001b[0mtorch\u001b[0m\u001b[0;34m.\u001b[0m\u001b[0mnn\u001b[0m\u001b[0;34m.\u001b[0m\u001b[0mfunctional\u001b[0m \u001b[0;32mas\u001b[0m \u001b[0mF\u001b[0m\u001b[0;34m\u001b[0m\u001b[0;34m\u001b[0m\u001b[0m\n\u001b[0;32m----> 4\u001b[0;31m \u001b[0;32mfrom\u001b[0m \u001b[0mtorch_geometric\u001b[0m\u001b[0;34m.\u001b[0m\u001b[0mdata\u001b[0m \u001b[0;32mimport\u001b[0m \u001b[0mData\u001b[0m\u001b[0;34m\u001b[0m\u001b[0;34m\u001b[0m\u001b[0m\n\u001b[0m\u001b[1;32m      5\u001b[0m \u001b[0;32mfrom\u001b[0m \u001b[0mtorch_geometric\u001b[0m\u001b[0;34m.\u001b[0m\u001b[0mloader\u001b[0m \u001b[0;32mimport\u001b[0m \u001b[0mDataLoader\u001b[0m\u001b[0;34m\u001b[0m\u001b[0;34m\u001b[0m\u001b[0m\n\u001b[1;32m      6\u001b[0m \u001b[0;32mfrom\u001b[0m \u001b[0mtorch_geometric\u001b[0m\u001b[0;34m.\u001b[0m\u001b[0mnn\u001b[0m \u001b[0;32mimport\u001b[0m \u001b[0mGCNConv\u001b[0m\u001b[0;34m\u001b[0m\u001b[0;34m\u001b[0m\u001b[0m\n",
            "\u001b[0;31mModuleNotFoundError\u001b[0m: No module named 'torch_geometric'",
            "",
            "\u001b[0;31m---------------------------------------------------------------------------\u001b[0;32m\nNOTE: If your import is failing due to a missing package, you can\nmanually install dependencies using either !pip or !apt.\n\nTo view examples of installing some common dependencies, click the\n\"Open Examples\" button below.\n\u001b[0;31m---------------------------------------------------------------------------\u001b[0m\n"
          ],
          "errorDetails": {
            "actions": [
              {
                "action": "open_url",
                "actionText": "Open Examples",
                "url": "/notebooks/snippets/importing_libraries.ipynb"
              }
            ]
          }
        }
      ],
      "source": [
        "import torch\n",
        "import torch.nn as nn\n",
        "import torch.nn.functional as F\n",
        "from torch_geometric.data import Data\n",
        "from torch_geometric.loader import DataLoader\n",
        "from torch_geometric.nn import GCNConv\n",
        "from sklearn.preprocessing import StandardScaler\n",
        "from sklearn.neighbors import kneighbors_graph\n",
        "import numpy as np"
      ]
    },
    {
      "cell_type": "code",
      "source": [
        "def df_to_pyg_praph(df, feature_cols, label_col, k=8, impute_zero=True, add_missing_mask=True, seed=42):\n",
        "    x = df[feature_cols].astype(float).copy()\n",
        "    y = df[label_col].astype(int).values\n",
        "\n",
        "    #Handle missing values\n",
        "    missing_mask = X.isna().astype(int).values\n",
        "    if impute_zero:\n",
        "      X = X.fillna(0.0)\n",
        "\n",
        "    scaler = StandardScaler()\n",
        "    X_scaled = scaler.fit_transform(X.values)\n",
        "\n",
        "    if add_missing_mask:\n",
        "        X_all = np.hstack([X_scaled, missing_mask])\n",
        "    else:\n",
        "      X_all = X_scaled\n",
        "\n",
        "    A = kneighbors_graph(X_scaled, n_neighbors=k, mode=\"connectivity\", include_self=False, n_jobs=-1)\n",
        "    A = A.maximum(A.T)\n",
        "\n",
        "    row, col = A.nonzero()\n",
        "    edge_index = torch.tensor(np.vstack([row, col]), dtype=torch.long)\n",
        "\n",
        "    data = Data(\n",
        "        x = torch.tensor(X_all, dtype=torch.float),\n",
        "        y = torch.tensor(y, dtype=torch.long),\n",
        "        edge_index = edge_index\n",
        "    )\n",
        "\n",
        "    rng = np.random.default_rng(seed)\n",
        "    idx = np.arange(len(y))\n",
        "    rng.shuffle(idx)\n",
        "    n = len(idx)\n",
        "    n_train, n_val = int(0.7*n), int(0.15*n)\n",
        "    train_idx = idx[:n_train]\n",
        "    val_idx = idx[n_train:n_train+n_val]\n",
        "    test_idx = idx[n_train+n_val:]\n",
        "\n",
        "    data.train_mask = torch.zeros(n, dtype=torch.bool); data.train_mask[train_idx] = True\n",
        "    data.val_mask = torch.zeros(n, dtype=torch.bool); data.val_mask[val_idx]       = True\n",
        "    data.test_mask = torch.zeros(n, dtype=torch.bool); data.test_mask[test_idx]    = True\n",
        "\n",
        "    return data, scaler"
      ],
      "metadata": {
        "id": "WBbFa4NH8M8P"
      },
      "execution_count": null,
      "outputs": []
    },
    {
      "cell_type": "code",
      "source": [
        "#feature lists\n",
        "electrolyte_features = [f\"electrolyte_f{i}\" for i in range(31)]\n",
        "\n",
        "electrolyte_data, electrolyte_scaler = df_to_pyg_graph(df_electrolyte, electrolyte_features, \"label\", k=10)"
      ],
      "metadata": {
        "id": "R0YkIaIn_HHm"
      },
      "execution_count": null,
      "outputs": []
    },
    {
      "cell_type": "code",
      "source": [
        "class GCN(nn.Module):\n",
        "    def __init__(self, in_dim, hidden=64, dropout=0.3):\n",
        "        super().__init__()\n",
        "        self.conv1 = GCNConv(in_dim, hidden)\n",
        "        self.conv2 = GCNConv(hidden, hidden)\n",
        "        self.lin = nn.Linear(hidden, 2)\n",
        "        self.dropout = dropout\n",
        "\n",
        "    def forward(self, x, edge_index):\n",
        "        x = self.conv1(x, edge_index)\n",
        "        x = F.relu(x)\n",
        "        x = F.dropout(x, p=self.dropout, training=self.training)\n",
        "        x = self.conv2(x, edge_index)\n",
        "        x = F.relu(x)\n",
        "        x = self.lin(x)\n",
        "        return x"
      ],
      "metadata": {
        "id": "2W0ALGK3ChIu"
      },
      "execution_count": null,
      "outputs": []
    },
    {
      "cell_type": "code",
      "source": [
        "electrolyte_in_dim = electrolyte_data.x.size(1)\n",
        "\n",
        "electrolyte_model = GCN(electrolyte_in_dim, hidden=96, dropout=0.4)\n",
        "\n",
        "device = torch.device(\"cuda\" if torch.cuda.is_available() else \"cpu\")\n",
        "electrolyte_data, electrolyte_model = electrolyte_data.to(device), electrolyte_model.to(device)"
      ],
      "metadata": {
        "id": "UZumhnfsDuMw"
      },
      "execution_count": null,
      "outputs": []
    },
    {
      "cell_type": "code",
      "source": [
        "def train_gnn(data, model, lr=1e-3, weight_decay=5e-4, epochs=200, early_stop_patience=20):\n",
        "    opt = torch.optim.Adam(model.parameters(), lr=lr, weight_decay=weight_decay)\n",
        "    best_val_acc, best_state, patience = 0.0, None, early_stop_patience\n",
        "\n",
        "    def accuracy(logits, y):\n",
        "        return (logits.argmax(dim=-1) == y).float().mean().item()\n",
        "\n",
        "    for epoch in range(1, epochs+1):\n",
        "        model.train()\n",
        "        opt.zero_grad()\n",
        "        out = model(data.x, data.edge_index)\n",
        "        loss = F.cross_entropy(out[data.train_mask], data.y[data.train_mask])\n",
        "        loss.backward()\n",
        "        opt.step()\n",
        "\n",
        "        model.eval()\n",
        "        with torch.no_grad():\n",
        "            logits = model(data.x, data.edge_index)\n",
        "            val_acc = accuracy(logits[data.val_mask], data.y[data.val_mask])\n",
        "\n",
        "        if val_acc > best_val_acc:\n",
        "            best_val_acc = val_acc\n",
        "            best_state = {k: v.detach().cpu().clone() for k,v in model.state_dict().items()}\n",
        "            patience = early_stop_patience\n",
        "        else:\n",
        "            patience -= 1\n",
        "            if patience == 0:\n",
        "                break\n",
        "\n",
        "    if best_state is not None:\n",
        "        model.load_state_dict(best_state)\n",
        "\n",
        "    model.eval()\n",
        "    with torch.no_grad():\n",
        "        logits = model(data.x, data.edge_index)\n",
        "        test_acc = (logits[data.test_mask].argmax(-1) == data.y[data.test_mask]).float().mean().item()\n",
        "\n",
        "    return best_val_acc, test_acc, logits"
      ],
      "metadata": {
        "id": "CSDZ2pawEV3Q"
      },
      "execution_count": null,
      "outputs": []
    },
    {
      "cell_type": "code",
      "source": [
        "electrolyte_val, electrolyte_test, electrolyte_logits = train_gnn(electrolyte_data, electrolyte_model, lr = 1e-3, epochs = 300)\n",
        "\n",
        "print(f\"Organic GNN - best val acc: {electrolyte_val:.3f}, test acc: {electrolyte_test}:.3f\")"
      ],
      "metadata": {
        "id": "iN_4yCaXGhWW"
      },
      "execution_count": null,
      "outputs": []
    }
  ]
}